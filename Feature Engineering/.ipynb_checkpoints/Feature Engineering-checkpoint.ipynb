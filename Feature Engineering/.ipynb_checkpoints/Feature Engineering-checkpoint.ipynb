{
 "cells": [
  {
   "cell_type": "code",
   "execution_count": 1,
   "id": "d61a3b47-6f55-4b20-878a-e71cae6d2b61",
   "metadata": {},
   "outputs": [],
   "source": [
    "import pandas as pd"
   ]
  },
  {
   "cell_type": "markdown",
   "id": "444a24ac-7cf1-43f7-b6ef-feb63deec1f4",
   "metadata": {},
   "source": [
    "# Load the Dataset "
   ]
  },
  {
   "cell_type": "code",
   "execution_count": 2,
   "id": "462568b4-245d-4422-b8bf-04863f80e0f8",
   "metadata": {},
   "outputs": [
    {
     "name": "stdout",
     "output_type": "stream",
     "text": [
      "Dataset Loaded:\n",
      "          date  price  units_sold region category  age  target\n",
      "0   2023-01-17    435           2  South        C   35       0\n",
      "1   2023-12-04    178           3   West        A   37       0\n",
      "2   2023-08-20    493           7  South        B   48       1\n",
      "3   2023-03-05    401          10  North        B   45       0\n",
      "4   2023-03-01    380           9  South        A   20       1\n",
      "5   2023-04-11    322           3  North        C   50       0\n",
      "6   2023-02-07    456           7  South        C   56       0\n",
      "7   2023-07-26    406           4  South        B   66       1\n",
      "8   2023-05-25    366           7  North        C   61       0\n",
      "9   2023-12-01    133           1   West        B   20       1\n",
      "10  2023-03-30    226           1  South        A   22       0\n",
      "11  2023-11-04    449           2   West        B   23       0\n",
      "12  2023-11-25    167           9   East        A   68       0\n",
      "13  2023-04-10    275           1  South        B   69       1\n",
      "14  2023-02-14    316           7  South        C   30       0\n",
      "15  2023-07-11    176           5   West        B   45       1\n",
      "16  2023-03-31    106           5   East        B   51       0\n",
      "17  2023-08-20    434           1   East        B   30       0\n",
      "18  2023-12-20    457           3   West        C   43       1\n",
      "19  2023-04-29    165           4   East        C   43       1\n",
      "20  2023-10-14    391           1  South        C   51       1\n",
      "21  2023-01-05    416           7  North        C   51       1\n",
      "22  2023-12-16     61           1  South        C   35       1\n",
      "23  2023-01-20    237          10   West        B   59       0\n",
      "24  2023-01-26    179           8  South        A   38       1\n",
      "25  2023-11-13    150           5   East        B   67       1\n",
      "26  2023-05-21    307           7  North        C   28       0\n",
      "27  2023-10-09    189           1  North        B   54       1\n",
      "28  2023-08-28    329           2  South        C   69       0\n",
      "29  2023-08-04    253           3  South        C   66       1\n"
     ]
    }
   ],
   "source": [
    "df = pd.read_csv('data_large.csv')\n",
    "print(\"Dataset Loaded:\")\n",
    "print(df)"
   ]
  },
  {
   "cell_type": "markdown",
   "id": "955ace15-e983-40ff-8f15-0068e99f69e4",
   "metadata": {},
   "source": [
    "# Handle Date-Time Features"
   ]
  },
  {
   "cell_type": "code",
   "execution_count": null,
   "id": "a6f3ec88-01c4-407d-8fb8-a9c555cbebb3",
   "metadata": {},
   "outputs": [
    {
     "name": "stdout",
     "output_type": "stream",
     "text": [
      "        date  price  units_sold region category  age  target  year  month  day\n",
      "0 2023-01-17    435           2  South        C   35       0  2023      1   17\n",
      "1 2023-12-04    178           3   West        A   37       0  2023     12    4\n",
      "2 2023-08-20    493           7  South        B   48       1  2023      8   20\n",
      "3 2023-03-05    401          10  North        B   45       0  2023      3    5\n",
      "4 2023-03-01    380           9  South        A   20       1  2023      3    1\n"
     ]
    }
   ],
   "source": [
    "df['date'] = pd.to_datetime(df['date'])\n",
    "df['year'] = df['date'].dt.year\n",
    "df['month'] = df['date'].dt.month\n",
    "df['day'] = df['date'].dt.day\n",
    "\n",
    "print(df.head())"
   ]
  },
  {
   "cell_type": "markdown",
   "id": "a181452b-9eab-43aa-aa3c-332ecf5253f6",
   "metadata": {},
   "source": [
    "# Create Interaction Features"
   ]
  },
  {
   "cell_type": "code",
   "execution_count": 4,
   "id": "7da2936c-8fce-4cbc-a9f6-aa55a4f39558",
   "metadata": {},
   "outputs": [
    {
     "name": "stdout",
     "output_type": "stream",
     "text": [
      "   price  units_sold  price_per_unit\n",
      "0    435           2      217.500000\n",
      "1    178           3       59.333333\n",
      "2    493           7       70.428571\n",
      "3    401          10       40.100000\n",
      "4    380           9       42.222222\n"
     ]
    }
   ],
   "source": [
    "# Interaction feature: price per unit\n",
    "df['price_per_unit'] = df['price'] / df['units_sold']\n",
    "\n",
    "print(df[['price', 'units_sold', 'price_per_unit']].head())\n"
   ]
  },
  {
   "cell_type": "markdown",
   "id": "b436457c-8678-4193-b794-7ba99ce99604",
   "metadata": {},
   "source": [
    "# Perform Binning"
   ]
  },
  {
   "cell_type": "code",
   "execution_count": 5,
   "id": "404561a1-c5a6-49a9-956a-bd68a8e27c78",
   "metadata": {},
   "outputs": [
    {
     "name": "stdout",
     "output_type": "stream",
     "text": [
      "   age    age_group\n",
      "0   35  Middle-aged\n",
      "1   37  Middle-aged\n",
      "2   48  Middle-aged\n",
      "3   45  Middle-aged\n",
      "4   20        Young\n"
     ]
    }
   ],
   "source": [
    "# Age binning\n",
    "df['age_group'] = pd.cut(df['age'], bins=[0, 30, 50, 70], labels=['Young', 'Middle-aged', 'Senior'])\n",
    "\n",
    "print(df[['age', 'age_group']].head())\n"
   ]
  },
  {
   "cell_type": "markdown",
   "id": "bef9b25d-929f-43bb-9b07-cd6e30b27d4a",
   "metadata": {},
   "source": [
    "# Encode Categorical Data"
   ]
  },
  {
   "cell_type": "code",
   "execution_count": 6,
   "id": "ab1a6c0b-04e6-4a88-ae82-2b3630931760",
   "metadata": {},
   "outputs": [
    {
     "name": "stdout",
     "output_type": "stream",
     "text": [
      "        date  price  units_sold category  age  target  year  month  day  \\\n",
      "0 2023-01-17    435           2        C   35       0  2023      1   17   \n",
      "1 2023-12-04    178           3        A   37       0  2023     12    4   \n",
      "2 2023-08-20    493           7        B   48       1  2023      8   20   \n",
      "3 2023-03-05    401          10        B   45       0  2023      3    5   \n",
      "4 2023-03-01    380           9        A   20       1  2023      3    1   \n",
      "\n",
      "   price_per_unit    age_group  region_East  region_North  region_South  \\\n",
      "0      217.500000  Middle-aged        False         False          True   \n",
      "1       59.333333  Middle-aged        False         False         False   \n",
      "2       70.428571  Middle-aged        False         False          True   \n",
      "3       40.100000  Middle-aged        False          True         False   \n",
      "4       42.222222        Young        False         False          True   \n",
      "\n",
      "   region_West  \n",
      "0        False  \n",
      "1         True  \n",
      "2        False  \n",
      "3        False  \n",
      "4        False  \n",
      "  category  category_encoded\n",
      "0        C          0.461538\n",
      "1        A          0.400000\n",
      "2        B          0.583333\n",
      "3        B          0.583333\n",
      "4        A          0.400000\n"
     ]
    }
   ],
   "source": [
    "# One-Hot Encoding\n",
    "df_one_hot = pd.get_dummies(df, columns=['region'])\n",
    "\n",
    "# Target Encoding\n",
    "category_means = df.groupby('category')['target'].mean()\n",
    "df['category_encoded'] = df['category'].map(category_means)\n",
    "\n",
    "print(df_one_hot.head())\n",
    "print(df[['category', 'category_encoded']].head())\n"
   ]
  },
  {
   "cell_type": "markdown",
   "id": "6cf0ac41-0722-42fc-8817-94f4c6861b02",
   "metadata": {},
   "source": [
    "# Apply Polynomial Features"
   ]
  },
  {
   "cell_type": "code",
   "execution_count": 7,
   "id": "2eaec984-c0b0-4481-aeae-daa69f6e1008",
   "metadata": {},
   "outputs": [
    {
     "name": "stdout",
     "output_type": "stream",
     "text": [
      "   price  units_sold   price^2  price units_sold  units_sold^2\n",
      "0  435.0         2.0  189225.0             870.0           4.0\n",
      "1  178.0         3.0   31684.0             534.0           9.0\n",
      "2  493.0         7.0  243049.0            3451.0          49.0\n",
      "3  401.0        10.0  160801.0            4010.0         100.0\n",
      "4  380.0         9.0  144400.0            3420.0          81.0\n"
     ]
    }
   ],
   "source": [
    "from sklearn.preprocessing import PolynomialFeatures\n",
    "\n",
    "# Select features for polynomial transformation\n",
    "numerical_features = df[['price', 'units_sold']]\n",
    "\n",
    "# Apply polynomial transformation\n",
    "poly = PolynomialFeatures(degree=2, include_bias=False)\n",
    "poly_features = poly.fit_transform(numerical_features)\n",
    "\n",
    "# Create a new DataFrame for polynomial features\n",
    "poly_df = pd.DataFrame(poly_features, columns=poly.get_feature_names_out(numerical_features.columns))\n",
    "\n",
    "print(poly_df.head())\n"
   ]
  },
  {
   "cell_type": "code",
   "execution_count": null,
   "id": "aad32e1c-72aa-4ce1-a62e-2a4a514affe6",
   "metadata": {},
   "outputs": [],
   "source": []
  }
 ],
 "metadata": {
  "kernelspec": {
   "display_name": "Python 3 (ipykernel)",
   "language": "python",
   "name": "python3"
  },
  "language_info": {
   "codemirror_mode": {
    "name": "ipython",
    "version": 3
   },
   "file_extension": ".py",
   "mimetype": "text/x-python",
   "name": "python",
   "nbconvert_exporter": "python",
   "pygments_lexer": "ipython3",
   "version": "3.12.3"
  }
 },
 "nbformat": 4,
 "nbformat_minor": 5
}
